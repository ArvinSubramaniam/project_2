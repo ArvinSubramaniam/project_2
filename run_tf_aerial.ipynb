{
 "cells": [
  {
   "cell_type": "code",
   "execution_count": 1,
   "metadata": {},
   "outputs": [
    {
     "name": "stderr",
     "output_type": "stream",
     "text": [
      "/Users/arvingopal5794/anaconda/lib/python3.6/importlib/_bootstrap.py:205: RuntimeWarning: compiletime version 3.5 of module 'tensorflow.python.framework.fast_tensor_util' does not match runtime version 3.6\n",
      "  return f(*args, **kwds)\n"
     ]
    }
   ],
   "source": [
    "from tf_aerial_images import *"
   ]
  },
  {
   "cell_type": "code",
   "execution_count": 2,
   "metadata": {
    "scrolled": false
   },
   "outputs": [
    {
     "name": "stdout",
     "output_type": "stream",
     "text": [
      "Loading /Users/arvingopal5794/Downloads/training/images/satImage_001.png\n",
      "Loading /Users/arvingopal5794/Downloads/training/images/satImage_002.png\n",
      "Loading /Users/arvingopal5794/Downloads/training/images/satImage_003.png\n",
      "Loading /Users/arvingopal5794/Downloads/training/images/satImage_004.png\n",
      "Loading /Users/arvingopal5794/Downloads/training/images/satImage_005.png\n",
      "Loading /Users/arvingopal5794/Downloads/training/images/satImage_006.png\n",
      "Loading /Users/arvingopal5794/Downloads/training/images/satImage_007.png\n",
      "Loading /Users/arvingopal5794/Downloads/training/images/satImage_008.png\n",
      "Loading /Users/arvingopal5794/Downloads/training/images/satImage_009.png\n",
      "Loading /Users/arvingopal5794/Downloads/training/images/satImage_010.png\n",
      "Loading /Users/arvingopal5794/Downloads/training/images/satImage_011.png\n",
      "Loading /Users/arvingopal5794/Downloads/training/images/satImage_012.png\n",
      "Loading /Users/arvingopal5794/Downloads/training/images/satImage_013.png\n",
      "Loading /Users/arvingopal5794/Downloads/training/images/satImage_014.png\n",
      "Loading /Users/arvingopal5794/Downloads/training/images/satImage_015.png\n",
      "Loading /Users/arvingopal5794/Downloads/training/images/satImage_016.png\n",
      "Loading /Users/arvingopal5794/Downloads/training/images/satImage_017.png\n",
      "Loading /Users/arvingopal5794/Downloads/training/images/satImage_018.png\n",
      "Loading /Users/arvingopal5794/Downloads/training/images/satImage_019.png\n",
      "Loading /Users/arvingopal5794/Downloads/training/images/satImage_020.png\n",
      "Loading /Users/arvingopal5794/Downloads/training/groundtruth/satImage_001.png\n",
      "Loading /Users/arvingopal5794/Downloads/training/groundtruth/satImage_002.png\n",
      "Loading /Users/arvingopal5794/Downloads/training/groundtruth/satImage_003.png\n",
      "Loading /Users/arvingopal5794/Downloads/training/groundtruth/satImage_004.png\n",
      "Loading /Users/arvingopal5794/Downloads/training/groundtruth/satImage_005.png\n",
      "Loading /Users/arvingopal5794/Downloads/training/groundtruth/satImage_006.png\n",
      "Loading /Users/arvingopal5794/Downloads/training/groundtruth/satImage_007.png\n",
      "Loading /Users/arvingopal5794/Downloads/training/groundtruth/satImage_008.png\n",
      "Loading /Users/arvingopal5794/Downloads/training/groundtruth/satImage_009.png\n",
      "Loading /Users/arvingopal5794/Downloads/training/groundtruth/satImage_010.png\n",
      "Loading /Users/arvingopal5794/Downloads/training/groundtruth/satImage_011.png\n",
      "Loading /Users/arvingopal5794/Downloads/training/groundtruth/satImage_012.png\n",
      "Loading /Users/arvingopal5794/Downloads/training/groundtruth/satImage_013.png\n",
      "Loading /Users/arvingopal5794/Downloads/training/groundtruth/satImage_014.png\n",
      "Loading /Users/arvingopal5794/Downloads/training/groundtruth/satImage_015.png\n",
      "Loading /Users/arvingopal5794/Downloads/training/groundtruth/satImage_016.png\n",
      "Loading /Users/arvingopal5794/Downloads/training/groundtruth/satImage_017.png\n",
      "Loading /Users/arvingopal5794/Downloads/training/groundtruth/satImage_018.png\n",
      "Loading /Users/arvingopal5794/Downloads/training/groundtruth/satImage_019.png\n",
      "Loading /Users/arvingopal5794/Downloads/training/groundtruth/satImage_020.png\n",
      "Number of data points per class: c0 = 9450 c1 = 3050\n",
      "Balancing training data...\n",
      "6100\n",
      "(12500, 16, 16, 3)\n",
      "Number of data points per class: c0 = 3050 c1 = 3050\n",
      "<class 'tensorflow.python.ops.variables.Variable'> line 408\n",
      "WARNING:tensorflow:Passing a `GraphDef` to the SummaryWriter is deprecated. Pass a `Graph` object instead, such as `sess.graph`.\n",
      "Initialized!\n",
      "Total number of iterations = 1906\n",
      "Epoch 0.00\n",
      "Minibatch loss: 2.171, learning rate: 0.010000\n",
      "Minibatch error: 43.8%\n",
      "Model saved in file: /tmp/mnist/model.ckpt\n",
      "Epoch 0.00\n",
      "Minibatch loss: 1.628, learning rate: 0.010000\n",
      "Minibatch error: 31.2%\n",
      "Model saved in file: /tmp/mnist/model.ckpt\n",
      "Epoch 0.00\n",
      "Minibatch loss: 1.519, learning rate: 0.009500\n",
      "Minibatch error: 37.5%\n",
      "Model saved in file: /tmp/mnist/model.ckpt\n",
      "Epoch 0.00\n",
      "Minibatch loss: 1.689, learning rate: 0.009025\n",
      "Minibatch error: 43.8%\n",
      "Model saved in file: /tmp/mnist/model.ckpt\n",
      "Epoch 0.00\n",
      "Minibatch loss: 1.694, learning rate: 0.008574\n",
      "Minibatch error: 43.8%\n",
      "Model saved in file: /tmp/mnist/model.ckpt\n",
      "Running prediction on training set\n",
      "(625, 16, 16, 3) line 293\n",
      "(625, 16, 16, 3) line 293\n",
      "(625, 16, 16, 3) line 293\n",
      "(625, 16, 16, 3) line 293\n",
      "(625, 16, 16, 3) line 293\n",
      "(625, 16, 16, 3) line 293\n",
      "(625, 16, 16, 3) line 293\n",
      "(625, 16, 16, 3) line 293\n",
      "(625, 16, 16, 3) line 293\n",
      "(625, 16, 16, 3) line 293\n",
      "(625, 16, 16, 3) line 293\n",
      "(625, 16, 16, 3) line 293\n",
      "(625, 16, 16, 3) line 293\n",
      "(625, 16, 16, 3) line 293\n",
      "(625, 16, 16, 3) line 293\n",
      "(625, 16, 16, 3) line 293\n",
      "(625, 16, 16, 3) line 293\n",
      "(625, 16, 16, 3) line 293\n",
      "(625, 16, 16, 3) line 293\n",
      "(625, 16, 16, 3) line 293\n",
      "(625, 16, 16, 3) line 293\n",
      "(625, 16, 16, 3) line 293\n",
      "(625, 16, 16, 3) line 293\n",
      "(625, 16, 16, 3) line 293\n",
      "(625, 16, 16, 3) line 293\n",
      "(625, 16, 16, 3) line 293\n",
      "(625, 16, 16, 3) line 293\n",
      "(625, 16, 16, 3) line 293\n",
      "(625, 16, 16, 3) line 293\n",
      "(625, 16, 16, 3) line 293\n",
      "(625, 16, 16, 3) line 293\n",
      "(625, 16, 16, 3) line 293\n",
      "(625, 16, 16, 3) line 293\n",
      "(625, 16, 16, 3) line 293\n",
      "(625, 16, 16, 3) line 293\n",
      "(625, 16, 16, 3) line 293\n",
      "(625, 16, 16, 3) line 293\n",
      "(625, 16, 16, 3) line 293\n",
      "(625, 16, 16, 3) line 293\n",
      "(625, 16, 16, 3) line 293\n"
     ]
    }
   ],
   "source": [
    "main()"
   ]
  },
  {
   "cell_type": "code",
   "execution_count": null,
   "metadata": {
    "collapsed": true
   },
   "outputs": [],
   "source": []
  },
  {
   "cell_type": "code",
   "execution_count": null,
   "metadata": {
    "collapsed": true
   },
   "outputs": [],
   "source": []
  }
 ],
 "metadata": {
  "kernelspec": {
   "display_name": "Python 3",
   "language": "python",
   "name": "python3"
  },
  "language_info": {
   "codemirror_mode": {
    "name": "ipython",
    "version": 3
   },
   "file_extension": ".py",
   "mimetype": "text/x-python",
   "name": "python",
   "nbconvert_exporter": "python",
   "pygments_lexer": "ipython3",
   "version": "3.6.1"
  }
 },
 "nbformat": 4,
 "nbformat_minor": 2
}
